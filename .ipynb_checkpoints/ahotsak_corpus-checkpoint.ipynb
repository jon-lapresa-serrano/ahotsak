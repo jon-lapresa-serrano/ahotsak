{
 "cells": [
  {
   "cell_type": "code",
   "execution_count": 2,
   "metadata": {},
   "outputs": [],
   "source": [
    "from os.path import exists\n",
    "import requests\n",
    "#requests module for getting infor from websites\n",
    "import pickle"
   ]
  },
  {
   "cell_type": "code",
   "execution_count": null,
   "metadata": {},
   "outputs": [],
   "source": [
    "ex"
   ]
  },
  {
   "cell_type": "markdown",
   "metadata": {},
   "source": [
    "Extract list of tupples in the form of `(name, link)`, only if there are transcribed audios:"
   ]
  },
  {
   "cell_type": "code",
   "execution_count": 2,
   "metadata": {
    "scrolled": false
   },
   "outputs": [
    {
     "name": "stdout",
     "output_type": "stream",
     "text": [
      "Z\r"
     ]
    }
   ],
   "source": [
    "trans_hiz = []\n",
    "#creates empty list\n",
    "for letra in 'ABCDEFGHIJKLMNOPQRSTUVWXYZ':\n",
    "#takes the letters from the name list.\n",
    "    print(letra, end=\"\\r\")\n",
    "    #prints the letter it's working with. end=\"\\r\" shows only one letter.\n",
    "    hizlariak = requests.get('https://ahotsak.eus/hizlariak/'+letra)\n",
    "    #get function gets raw info from (website)\n",
    "    if '<nav aria-label=\\\"Page pagination\\\">' in hizlariak.text:\n",
    "    #if there is more than one page per letter (nav aria-label)\n",
    "        web_zenbakia = max([int(i.split('\\\"')[0]) for i in hizlariak.text.split('<nav aria-label=\\\"Page pagination\\\">')[1].split('</nav>')[0].split('page=')[1:]])\n",
    "        #scrapes number of pages per letter = splits raw info at nav aria-label, takes [1]; splits at '</nav>', takes [0]; splits at 'page=', takes [1:];\n",
    "        #splits at '\\\"', takes [0] (page number), conver to int, take only max \n",
    "    else:\n",
    "        web_zenbakia = 1\n",
    "    #if there is only one page per letter, page_number = 1\n",
    "    for z in range(1, web_zenbakia+1):\n",
    "        hizlariak = requests.get('https://ahotsak.eus/hizlariak/'+letra+'/'+'?page='+str(z))\n",
    "        #scrapes raw info from each letters' pages (using a link per page) \n",
    "        for hizlari in hizlariak.text.split('<table class=\\\"taula\\\">')[1].split('</table>')[0].split('</tr>')[1:-1]:\n",
    "        #per page, takes only the speakers table\n",
    "        #per table, divides table into speakers\n",
    "        #per speaker:\n",
    "            info = hizlari.split('\\n<')\n",
    "            #scrapes raw info on each speaker, splits at 'new line+<'\n",
    "            for i in info:\n",
    "            #per info row:\n",
    "                if 'href' in i:\n",
    "                #'href': reference to speaker's individual website\n",
    "                    esteka = 'https://ahotsak.eus' + i.split('\\\"')[1].strip()\n",
    "                    #scrapes each link by dividing row with 'href' by '\\\"', taking [1], stripping start and ending spaces\n",
    "                    izena = i.split('\\\"')[2].replace('>', '').split('<')[0].strip()\n",
    "                    #scrapes speaker's full name by dividing row by '\\\"', taking [2], removes '>', splits at <, takes [0], strips start and ending spaces\n",
    "                if i.split(' ')[0] == 'img':\n",
    "                #if row [0] is 'img':\n",
    "                    if 'Transkripzioaren ikonoa' in i:\n",
    "                        trans_hiz.append((izena, esteka))\n",
    "                    #if image is 'Transcription icon':\n",
    "                        #add to previously created list, speaker name and their website link\n"
   ]
  },
  {
   "cell_type": "markdown",
   "metadata": {},
   "source": [
    "Taking the list of tupples, create a dictionary of the form \n",
    "\n",
    "`pertsonak = {izena_1: {herria, urteak, bio, esteka},\n",
    "              izena_2: {herria, urteak, bio, esteka},\n",
    "              ...}`."
   ]
  },
  {
   "cell_type": "code",
   "execution_count": 5,
   "metadata": {
    "scrolled": true
   },
   "outputs": [
    {
     "name": "stdout",
     "output_type": "stream",
     "text": [
      "99.939%\r"
     ]
    }
   ],
   "source": [
    "pertsonak = {}\n",
    "#creates empty dict\n",
    "for i, p in enumerate(trans_hiz):\n",
    "#per i (number), p (tupple) in previously creates list:\n",
    "    print(round(i/(len(trans_hiz)-1)*100, 3), '%', sep = '', end=\"\\r\")\n",
    "    #prints rounded percentage ((current number/total number)*100) of what's left\n",
    "    izena = p[0]\n",
    "    #scrapes name from tupple\n",
    "    esteka = requests.get(p[1])\n",
    "    #scrapes raw link \n",
    "    a = esteka.text.split('<p class=\\\"data\\\">')[1].split('</p>')[0].split('>')[1:]\n",
    "    #scrapes speaker info: splits at '<p class=\\\"data\\\">', takes [1]; splits at '</p>', takes [0]; splits at '>', takes [1:]\n",
    "    pertsonak[izena] = {'herria': a[0].strip('</a'),\n",
    "                        #scrapes hometown name\n",
    "                        'urteak': a[len(a)-1][a[len(a)-1].find(\"(\")+1:a[len(a)-1].find(\")\")],\n",
    "                        #scrapes birth years from last item of a: everything between ( and ), except the parentheses themselves\n",
    "                        'bio': esteka.text.split('<div class=\"bio\">')[1].split('</div>')[0].strip('<p>'),\n",
    "                        #scrapes speaker bio by taking raw info from '<div class=\"bio\">' to '</div>', strips '<p>'\n",
    "                        'esteka': p[1]}\n",
    "                        #scrapes link\n",
    "    #adds info to previously created dict"
   ]
  },
  {
   "cell_type": "markdown",
   "metadata": {},
   "source": [
    "Taking the list of tupples, create a dictionary of the form \n",
    "\n",
    "`pasarteak = {izena_1: {pasarte_1: {data, transkripzioa, esteka},\n",
    "                        pasarte_2: {data, transkripzioa, esteka},\n",
    "                        ...},\n",
    "              izena_2: {pasarte_1: {data, transkripzioa, esteka},\n",
    "                        pasarte_2: {data, transkripzioa, esteka},\n",
    "                        ...},\n",
    "              ...}`."
   ]
  },
  {
   "cell_type": "code",
   "execution_count": 6,
   "metadata": {},
   "outputs": [
    {
     "name": "stdout",
     "output_type": "stream",
     "text": [
      "99.939%\r"
     ]
    }
   ],
   "source": [
    "pasarteak = {}\n",
    "#creates empty dict\n",
    "for i, p in enumerate(trans_hiz):\n",
    "#per i (number), p (tupple) in previously creates list:\n",
    "    print(round(i/(len(trans_hiz)-1)*100, 3), '%', sep = '', end=\"\\r\")\n",
    "    #prints rounded percentage ((current number/total number)*100) of what's left\n",
    "    pasarteak[p[0]] = {}\n",
    "    #creates another empty dict inside the previously created one, sorted by speaker name\n",
    "    pertsona = requests.get(p[1])\n",
    "    #scrapes raw link\n",
    "    for i in pertsona.text.split('<h2>Pasarteak</h2>')[1].split('</tr>')[1:-1]:\n",
    "    #splits speaker's passage table at '<h2>Pasarteak</h2>', takes [1], splits at '</tr>', takes [1:-1]\n",
    "    #per passage info:\n",
    "        if 'href' in i:\n",
    "            esteka = 'https://ahotsak.eus' + i.split('\\\"')[5].strip()\n",
    "        #if 'href' in passage info:\n",
    "            #scrapes link for passage\n",
    "        if 'img' in i:\n",
    "        #if 'img' in passage info:\n",
    "            if 'Transkripzioaren ikonoa' in i:\n",
    "            #if Transcription icon in passage info:\n",
    "                pas_izena = esteka.split('/')[-2]\n",
    "                #scrapes passage identification number\n",
    "                pasartea = requests.get(esteka).text\n",
    "                #scrapes passage's raw info from website\n",
    "                data = pasartea.split('<li><strong>Data</strong>: ')[1].split('</li>')[0]\n",
    "                #scrapes passage's date\n",
    "                transkripzioa = [j.strip('- ') for j in pasartea.split('<p class=\\\"\\\">')[1].split('<p class=\\\"egilea\\\">')[0].strip().split('<br />') if j != '']\n",
    "                #scrapes full transcription: splits between <p class=\\\"\\\"> and <p class=\\\"egilea\\\">; splits transcription lines at '<br />'\n",
    "                #per line in transcription, if line is not empty: get rid of '- '\n",
    "                pasarteak[p[0]][pas_izena] = {'data': data, 'transkripzioa': transkripzioa,\n",
    "                                              'esteka': esteka}\n",
    "                #add info to previously created dict per speaker per passage"
   ]
  },
  {
   "cell_type": "code",
   "execution_count": 19,
   "metadata": {},
   "outputs": [
    {
     "data": {
      "text/plain": [
       "{'arr-012-004': {'data': '2005(e)ko martxoaren 09a',\n",
       "  'transkripzioa': ['Orduan inportantie izaten zan ez, erderie ikastia eta?',\n",
       "   'Bai oso inportantie.',\n",
       "   'Gurasuendako be inportantie izango zan ez? umiek…',\n",
       "   'Gurasuk baserrittarrak eta torpe samarrak zien. Baiñe nik esan dotena, ama kalien hasitte euen ta erderaz ondo ekixen. Baie ume askok ez ekixien amak eta ez zotsien eitten erderaik eta. Eta asko gehixa kostetan jakuen harei erderaz ikestie. Eta hor baserri goixen bizi zienak eta be bai “mas torpes” ikesteko erderaz. Sekule entzun ez bozu. Zuk alemana ta moduen, zuk sekule entzun ez bozu ez dozu ikesiko, baiñe entzun bozu ta bai.',\n",
       "   'Orduan gurasuak eta nahi izaten zeben erderaz ikastia umiak eta?',\n",
       "   'Bai, baiñe euskara maitte izeten zan e! Euskeri be e! Euskerie be asko gustetan jakun. Erderie be bai, ikestie bai. Hareik baekixien erderiek be hemendik kanpora falta eitten euela ta.',\n",
       "   'Erderia eskolan ikastia eta etxian euskeraz, ez?',\n",
       "   'Euskeraz bai, etxien euskeraz.',\n",
       "   'Esaten dozunian euskeria asko maitxe zala ta, zegaitxik edo, zuk ikusten zenuan? Igartzen zenuan etxian?',\n",
       "   'Etxian beti euskeraz. Etorten bazan kanpotik bat edo bat, parienten bat edo baten- bat edo ez ekixena euskeraz ba harekin erderaz ta eitten gauen. Hor Donostin ta bageunken familixie ta. Baiña bestelan etxien euskeraz betik.',\n",
       "   'Hemen inguruen eta jentia edo gaztiak eta joaten zian Arabara erderia ikastera?',\n",
       "   'Gure aittek esaten euen bera juenda euela. Bai, bestela asko ez e! Ez zan joaten. Baiña aittek esaten euen: “gu Arabara bialdu ginttuen”. Zera, erderaz ikesten. Han zela ez zan eitten euskeraz. Ta oin Araban eitten da euskeraz e!'],\n",
       "  'esteka': 'https://ahotsak.eus/arrasate/pasarteak/arr-012-004/'},\n",
       " 'arr-012-006': {'data': '2005(e)ko martxoaren 09a',\n",
       "  'transkripzioa': ['Ta esan dozu lehen eliza-ostian edo, ez dakit, hor inguruan jolasten zenduela…',\n",
       "   'A! Bai.',\n",
       "   'Zetara jolasten zenduen holan umetan?',\n",
       "   'Bueno! Veinte-veinteka. Lau itsutu hola, ta hogei kontau. Ta, gero, kentzen gutsenien, guk harei bateri ebatu ein bihar gutsen. Ta, gero, nun ebatu? Ez genkixen nora juan zan ta!  Ta hak ebaketan utsenak, ba, hak irabazi eitten euen. Igual sartzen zien han eskiña batetik norabaittera ta… &quot;Fulano de tal&quot;. &quot;Pues, no habéis conseguido agarrarle a ese&quot;. Ta han urteten euen. Baiña gu galdute. Ez geuen irabazten. Ikusten ez zoskun itxitten ta… Ta, gaiñera, ignorantiek be bai. Hola tapauta ifini geuk, ta geuk apurtxo bat zabaldu be ez ikusteko. &quot;Muy ignorantes&quot;.'],\n",
       "  'esteka': 'https://ahotsak.eus/arrasate/pasarteak/arr-012-006/'},\n",
       " 'arr-012-007': {'data': '2005(e)ko martxoaren 09a',\n",
       "  'transkripzioa': ['Sei urtekin sartzen gintzen eskolan “hasta catorce”.',\n",
       "   'Eta zeuen artian erderaz eitxen zenduen ala?',\n",
       "   'Lelengokuen ez. Baiñe gero ikesten ta juen gintzenien ba bai. Samurre da erderie. Erderie samurre da.',\n",
       "   'Nesken artien gehixau ala mutillen artien?',\n",
       "   'Neskak die mas.',\n",
       "   'Bai? Erderara errezau?',\n",
       "   'Bai.'],\n",
       "  'esteka': 'https://ahotsak.eus/arrasate/pasarteak/arr-012-007/'},\n",
       " 'arr-012-009': {'data': '2005(e)ko martxoaren 09a',\n",
       "  'transkripzioa': ['Ta beste jolasen bat eitten zenduen?',\n",
       "   'Bai, [horik], zerak, &quot;cromos&quot;. &quot;A cromos&quot;. Kromuek ifini ta hari bueltia emon ta zenbat azertatzen zittun, ba, harendako. Ta, gero, ba, igual isten ziñuen bape barik. Apur bat ondo eitten euenak… Ba, zu bape barik. Bai, kromoka be asko. Kromoka neskak gehixao, e!',\n",
       "   'Ta kromuak nun jiratzen zenduezen, ba?',\n",
       "   'Kromuek erosi. Kalera juaten zanien ama: &quot;Ekarri kromuek&quot;. Ta ekarten oskuen ta…  Gero hola ein ta… Batzuk tranpa gehitxuao eukitten euen, holan hartu ta &quot;da!&quot; hola ta… &quot;E! Horrek ez dau balixo!&quot;.',\n",
       "   'Senarra: […].',\n",
       "   'Bai, pegaute ta… Jolin! Bai. Izeten zan jokue baiñe entretenidue, e! Oso entretenidue.',\n",
       "   'Ta zelakuak izaten zian kromuak? Ze dibujo edo…?',\n",
       "   'Bai, eukitten zittuen polittek dibujuek. Batzuk kaballuek, beste batzuk…',\n",
       "   'Senarra: Katuak, txakurrak…',\n",
       "   'Katuek, txakurrek…',\n",
       "   'Senarra: Pertsonak be bai, ta mutikuek ta neskatillak eta…',\n",
       "   'Bai, umiek eta &quot;de todo&quot;. Kromuek oso polittek. Eta emuten euen haik galtzen zienien pena bat…! Bakotxak balixo euen igual bost zentimo edo, ta orduen asko zan. Ta guk: &quot;Ala! Urten dau, urten dau!&quot;, ta urteten dauenien, ba, irabazi eitten da. Ta buelta emoten ez botsezun, ba, ezebez, bestiendako. Oso joku zera zan, dibertidue zan, e! Gero, umiek pazientzie tremendue!',\n",
       "   'Esan dozu kromuak-eta jirau eitten ziala dendan edo…',\n",
       "   'Klaro! Dendan saltzen zittuen.',\n",
       "   'Zeuek ez zenduezen eitten, ezta?',\n",
       "   'Geuk jueten bagitzen ta dirue eukitten bageuen, geuk erosi be bai. Baiñe dirue euen &quot;al otro lado del océano&quot;. Amai-edo esan biher ekarteko. Eukitzen gittuen, gero kajatxo batzuk eta eukitzen gittuen ta gero han gordetan gittuen.'],\n",
       "  'esteka': 'https://ahotsak.eus/arrasate/pasarteak/arr-012-009/'},\n",
       " 'arr-012-010': {'data': '2005(e)ko martxoaren 09a',\n",
       "  'transkripzioa': ['Tortolosetan-eta eitten zenduen?',\n",
       "   'Baitte! Tortolosetan be bai. Tortolosak izeten zien…',\n",
       "   'Ta zelan izaten zan joko…?',\n",
       "   'Tortolosak izeten zien… billotsenak ez zien apreziauek, zerenak zien apreziauek, adarixenak eta hola, haunditxuauek. Eta haik ifini, ta guk gero hartu zera, kanikie, ta bota gora ta hari buelta emon. Ta, gero, ha goixen zan bittartien hartu ta holaxe, jokue. Politte, oso politte jokue.',\n",
       "   'Eta kanturen bat zeuan edo…?',\n",
       "   'Kantuek, ez geuen eitten kantu asko.',\n",
       "   'Ez?',\n",
       "   'Ez.',\n",
       "   'Holan, kanikia gora bota ta buelta emoteko ta…',\n",
       "   'Ez, ez, kanturik ez euen. Orduen haxe. Orduen haxe, buelta emoten bajakon, &quot;al bolso&quot;, ta galtzen bazeuen, &quot;Aiii… Akabo! Galdu dot! Galdu dot!&quot;. Gero etxera etorten bagitzen galdute, ba, amai… Amak… Jeneralien hamengo amak-eta, juaten zien behi-esniekin kalera. Ta &quot;de paso&quot;, ba, &quot;Ekarri kromuek, e, ama. Kromuek ekarri.&quot; Ta ekarri ein biher, bestela gerra.',\n",
       "   'Tortolosak-eta, esan dozu, adarixanak ziala…',\n",
       "   'Bai, apreziauek.',\n",
       "   'Margotu edo eitten zenduezen?',\n",
       "   'Ez. Zien haundixauek, eta zerenak, billotsenak, txikitxuauek. Ta haundixek balixo euen asko. [Haikin] jokatu be hobeto eitten zan ta… [Bestiek hiru eitten euen batzutan] ta…',\n",
       "   'Eta tortolosian alde bakoitzak izenen bat zekan?',\n",
       "   'Ez, ez zeuken. Tortolosai tortolosa. Unikamente, kanikan eitten bagauen han… eskola onduen egozen, ba, zer batzuk, harri batzuk. Ta kanikan be bai. Kanikie bota ta hari zera, ta, bestela, gora be bai. Baiña fazillaue zan gora jokaketie. Bestiek salto eitten auenien hartu biher zauen ta. Batzutan iges eitten otsun. Diferentie zan. Oin ez daue eitten horrek jokuk, holako jokuik. Ta galdetu be ez zela eitten gauen be.',\n",
       "   'Hori ze izaten zan, urte guztian jolasten zenduen ala urte sasoiren baten?',\n",
       "   'Sasoiek egoten zien. Horreik jeneralien garizuman.'],\n",
       "  'esteka': 'https://ahotsak.eus/arrasate/pasarteak/arr-012-010/'},\n",
       " 'arr-012-011': {'data': '2005(e)ko martxoaren 09a',\n",
       "  'transkripzioa': ['Ta garizuma-denporan, zela esaten zan? Horrek zerok, egurtxuekin eitten zana?',\n",
       "   'Senarra: Txirikillaka.',\n",
       "   'Txirikilla, txirikilla. Txirikillak zien, ba, zerak…',\n",
       "   'Senarra: makilla luze bat eta bestia motxa.',\n",
       "   'Makilla luzie ta bestie motxa. Luzie jotekue. Txikixa hartu eskuen ta jo. Ta ha urrin botaten bazauen, ba, irabazi eitten zeuen. Ta hurrien geraketan bazan, ta bestiek hurrao, ba, han hurrekuk galdu. Hori eitten zan garizuman. Bueno…! Horrek…',\n",
       "   'Eta hori zenbat urtekin edo izaten zan jolas hori?',\n",
       "   'Ba, hori sei urtetik hasta… eskolatik urten arte. Gero ahaztu eitten zan hori. Gero haunditxuek izeten zien. Txikixak izeten zien ibiltzen zienak, baiña haundixek ez.',\n",
       "   'Eta, esaten dozu, orduan, zala makilla luze bat eta…',\n",
       "   'Beste txiki bat. Hau, haundixe, txikixe joteko. Ta, gero, han egoten zan, futbolistak-eta eitten dauena: una… arraia bat. Ta arraia pasetan bazauen, irabazi eitten zeuen; baiña arraiara llegetan ez bazan, galdu. Ta zuk txirikillie —txirikillie, hori zeroi, palo zeroi, txikixoi— hori zera ein biher, entregau ein biher, galdu zauen ta. Oso…',\n",
       "   'Bestiari emon…',\n",
       "   'Bestiai emun biher. Ta, gero, askotan galtzen bazeuen, ba, geraketan ziñen bape barik. Ta, gero, aittei edo amai esan biher—Amai ez, aittei, jeneralien; edo, bestela, anairen bateri—: &quot;Txirikillak [eiñeidazuz], txirikillak [eiñeidazuz]&quot;. Ta hor juaten zien norabaittera, egurra eguen lekure, ta harek eitten oskuen. Anaiek-eta eitten oskuen txirikillok.'],\n",
       "  'esteka': 'https://ahotsak.eus/arrasate/pasarteak/arr-012-011/'},\n",
       " 'arr-012-012': {'data': '2005(e)ko martxoaren 09a',\n",
       "  'transkripzioa': ['… bi makilla ta bi makillen artian…',\n",
       "   'A! Hori! Zera…',\n",
       "   'Senarra: diaboloka?',\n",
       "   'Diablo, bai, diablo. Zer bat hartu, soka bat, ta hori zeroi, diabluoi erdixen ifini ta hareaz. Ta, gero, gora bota ta hartu ta hola. Ha be politte zan jokue. Ez dakit ikusitte eukiko dozuen.',\n",
       "   'Bai, ikusitta bai. Eta hori, gaiñera, dendan-edo erosiko zenduen, ez?',\n",
       "   'Bai, klaro.',\n",
       "   'Txirikillia, ostera, zeuek eitten zenduen…',\n",
       "   'Txirikillek etxien.',\n",
       "   'Esaten neban, txirikillia… Ba, zuk esan dozuna: lurrian marraren bat edo eitten zan eta egoten zian bi makilla halako kakotx modoko batekin txirikillia bertan ipintzeko edo?',\n",
       "   'Ez.',\n",
       "   'Halakorik ez?',\n",
       "   'Eskuetan hartzen gittuen zerak eta…',\n",
       "   'Senarra: Behian harri bi ez zien, ba, egoten txirikillia gaiñien isteko?',\n",
       "   'Biharbada hemen harrixak izango zian?',\n",
       "   'Harri bi ifintten [zizun] lurrien, eta gero eskutan hartzen [zittuen] haik zer bateaz, kordel bateaz. Ta hareaz kordelaz, ba, &quot;ra-ra-ra&quot; eraitten otsezun, ta seguru […] botatzen […] gora.',\n",
       "   'Baiña hori diabolua…',\n",
       "   'Bai. Ta, gero, hartzen zeuenien-ta, bueno! Hori zan &quot;un triunfo&quot;, ha goixen hartzen zanien. Ihes eitten ez baeuen, ba, hartu ta ala! Oso joku… Oin holako jokuik ez da eitten.',\n",
       "   'Dibertidua, ez? Gauza gitxikin…',\n",
       "   'Baiña oin… Lehen jokuak, ba, polittek. Neri gustetan jaten hori, txirikillan. Hori garizuman, e! Ta garizumie bukaketan zanien ez zan eitten. Ez dakit ze esan gura euen horrek. Garizuma-denporan bakarrik.',\n",
       "   'Garizuman, holan, beste jolasik edo eitten zan orduan bakarrik?',\n",
       "   'Ez, ez. Txirikillakin, neu akordetan nazela txirikillak. Baiña afan bat… Bueno!',\n",
       "   'Eta hori neskak eta mutillak?',\n",
       "   'Bai. Danak.'],\n",
       "  'esteka': 'https://ahotsak.eus/arrasate/pasarteak/arr-012-012/'},\n",
       " 'arr-012-013': {'data': '2005(e)ko martxoaren 09a',\n",
       "  'transkripzioa': ['Gero, &quot;txingurriska&quot; edo eitten zenduen? Edo &quot;losa-losaka&quot; edo…?',\n",
       "   'Bai, &quot;losa-losaka&quot; bai. Han markak ein, zera, ta hanka-koja. Han pasetan zittuenak eta, ba, ikuketan otsenak arraiai edo galdu. Hori be bai. Hori asko.',\n",
       "   'Ta soka-saltuan be eingo zenduen, ez?',\n",
       "   'E?',\n",
       "   'Soka-saltuan…',\n",
       "   'Bai. Salto, &quot;taka!&quot; Salto. Gaur baiño hobeto.',\n",
       "   'Kantuak-eta eitten zenduezen soka-saltuan?',\n",
       "   'Soka-saltuen be bai. Soka-saltuen asko.',\n",
       "   'Kanturen bat goguan dakazu?',\n",
       "   'Bai, &quot;Soy la reina de los mares y tu ya no puedes ser&quot;, &quot;trrin-ta-ta-ta!&quot; fuertiao gero ta. Gero polittuau. &quot;Más despacio que aquí no se puede, que se pierde&quot; ta hori rekreoko denporan izeten zan. Dana erderaz eitten geuen. Ta &quot;que es demasiado pronto, que no se puede&quot;, ta… Han hankia sartzen bazauen, sokie galdu eitten zeuen. Ha itxi biher zeuen, ba, libre, salto eindde: &quot;taka, taka!&quot;.  Gauza… Ni akordau be ez nitzen eitten. Ointxe zeuk galdetu dozulako, bestela, horrek jokuok eta… aspaldi juenda dauz! Ta oingo umiek ez daue eitten holakoik. Holako jokuik ez daue eitten.',\n",
       "   'Bueno, soka-saltuan pixkat gehixao, ez? Tortolosak-eta ya ez dira ikusten…',\n",
       "   'Ez.',\n",
       "   'Baiña soka-saltuan…',\n",
       "   'Soka-saltuen iguel bai.',\n",
       "   'Nik uste dot modak izaten diala, ez?',\n",
       "   'Bai, soka-saltuen bai. Mutillek be etorten zien kuadrillara como… eurak gehixao zien moduen. Mutillek zela fuertiauek izeten dien jeneralien… Sartu sokan ta [hanka]! Ta &quot;Ala! Irabazi dotsut!&quot;. Iñok ainddu barik etorten zien hareik, &quot;taka!&quot;.',\n",
       "   'Ta beste, holan, korruan ipinitta mutillak eta neskak eta…?',\n",
       "   'Bai, &quot;Al corro de las patatas&quot;, pañelotxua hartute. Gero pañelue itxi han ta han ha harrapetan dauenak, ba, irabazi eitten auen.',\n",
       "   'Baiña hori… Ze dira, bi jolas diferente. Edo?',\n",
       "   'Bai, diferentiek. Korruen jarri ta pañelue ifini erdixen. Ta korruen danok bueltan…'],\n",
       "  'esteka': 'https://ahotsak.eus/arrasate/pasarteak/arr-012-013/'},\n",
       " 'arr-012-024': {'data': '2005(e)ko martxoaren 09a',\n",
       "  'transkripzioa': ['Arre, arre, mandako',\n",
       "   'bihar Tolosarako,',\n",
       "   'etzi Panplonarako.',\n",
       "   'Handik zer ekarriko?',\n",
       "   'Zapata ta gerriko.',\n",
       "   'Horixe kantetan jakuen asko umiei. Ez nitzen akordetan.',\n",
       "   'Eta hori aittari entzunda?',\n",
       "   'Bai.'],\n",
       "  'esteka': 'https://ahotsak.eus/arrasate/pasarteak/arr-012-024/'},\n",
       " 'arr-012-028': {'data': '2005(e)ko martxoaren 09a',\n",
       "  'transkripzioa': ['Baitte. Astue ifini azpixen, ta salto ein ta… Buuf! Holakuek asko. Muturrez aurrera jausi be bai batzutan.',\n",
       "   'Ta &quot;Txorro, morro, piko, kaio, ke&quot; edo…?',\n",
       "   'Senarra: Baitta.',\n",
       "   'Baitte.',\n",
       "   'Zelan izaten zan hori?',\n",
       "   '&quot;Txorro, morro, piku, kaio, ke&quot;…',\n",
       "   'Ze zan, atzapar bakoitzak izenen bat zekan edo…?',\n",
       "   'Kontetan, atzaparrak kontauaz: &quot;Txorro, morro, piko, kaio, ke&quot;. Ta, gero, zuk aurretik esan […] &quot;piku&quot;, ba, han geratu ein biher zan. Ta irabazten zeuen. Baiña […] zan irabaztie. Joku asko euen umiendako ta…',\n",
       "   'Tranpak edo ez zian eitten? Atzaparra ez dakit zelan ipiñi despistatzeko edo…?',\n",
       "   'Edo gorde edo, ez zeuela han atzaparrik eta…'],\n",
       "  'esteka': 'https://ahotsak.eus/arrasate/pasarteak/arr-012-028/'},\n",
       " 'arr-012-029': {'data': '2005(e)ko martxoaren 09a',\n",
       "  'transkripzioa': ['Umiak, holan, txintxaunian edo ipinitta, edo altzuan, beste jolasen bat?',\n",
       "   'Bai, orduen txintxauek euezen ez oingo modukuek. Soka bat ifini holako arbola baten edo. Han sokan ifini umie, ta hari ondo obatu biher, sokatik ha samur jausten zan ta. Hartu ta &quot;tra!&quot; ta: &quot;Gehixau! Gehixau!&quot;. Hori ein biher zauen leku baten bedarra-edo euen leku baten, zeatik jausten bazien, &quot;pues, adiós muy buenas&quot;. Ta &quot;Gehixau!&quot; ta &quot;Gehixau&quot; ta… Hortan asko gustetan jakuen umiei, hori jokuoi. Hartu atzekaldetik eta &quot;da!&quot; bota ta… &quot;Urriñao!&quot;, ta &quot;tta!&quot; ta ba!… Jausten bazan gero, egundoko arrantzak, &quot;a llorar&quot;. Bai, joku asko euen, e! Baiña oin ez da eitten holako jokuik.'],\n",
       "  'esteka': 'https://ahotsak.eus/arrasate/pasarteak/arr-012-029/'},\n",
       " 'arr-012-033': {'data': '2005(e)ko martxoaren 09a',\n",
       "  'transkripzioa': ['Eta beste kantu bat, holan, oso ezaguna ta seguru ezautzen dozuna: &quot;Txalo pin txalo&quot;?',\n",
       "   '&quot;Txalo pin txalo, katutxue mizpilla gaiñien dago&quot;. Ta gehixao ez dakit.',\n",
       "   'Kantuak be asko zian, orduan, ezta?',\n",
       "   'Asko, asko.',\n",
       "   'Lehen jolasak esan dozu, baiña kantuak be…',\n",
       "   'Kantuek be asko, asko.'],\n",
       "  'esteka': 'https://ahotsak.eus/arrasate/pasarteak/arr-012-033/'}}"
      ]
     },
     "execution_count": 19,
     "metadata": {},
     "output_type": "execute_result"
    }
   ],
   "source": [
    "pasarteak['Abarrategi, Miren']"
   ]
  },
  {
   "cell_type": "code",
   "execution_count": 7,
   "metadata": {},
   "outputs": [],
   "source": [
    "#with open('trans_hiz.pickle', 'wb') as handle:\n",
    "#    pickle.dump(trans_hiz, handle, protocol=pickle.HIGHEST_PROTOCOL)\n",
    "#with open('pertsonak.pickle', 'wb') as handle:\n",
    "#    pickle.dump(pertsonak, handle, protocol=pickle.HIGHEST_PROTOCOL)\n",
    "#with open('pasarteak.pickle', 'wb') as handle:\n",
    "#    pickle.dump(pasarteak, handle, protocol=pickle.HIGHEST_PROTOCOL)"
   ]
  },
  {
   "cell_type": "code",
   "execution_count": 3,
   "metadata": {},
   "outputs": [],
   "source": [
    "with open('trans_hiz.pickle', \"rb\") as input_file:\n",
    "    trans_hiz = pickle.load(input_file)\n",
    "with open('pertsonak.pickle', \"rb\") as input_file:\n",
    "    pertsonak = pickle.load(input_file)\n",
    "with open('pasarteak.pickle', \"rb\") as input_file:\n",
    "    pasarteak = pickle.load(input_file)"
   ]
  },
  {
   "cell_type": "code",
   "execution_count": 6,
   "metadata": {},
   "outputs": [
    {
     "data": {
      "text/plain": [
       "('Abarrategi, Miren',\n",
       " 'https://ahotsak.eus/arrasate/hizlariak/miren-abarrategi')"
      ]
     },
     "execution_count": 6,
     "metadata": {},
     "output_type": "execute_result"
    }
   ],
   "source": [
    "trans_hiz[0]"
   ]
  },
  {
   "cell_type": "code",
   "execution_count": 18,
   "metadata": {},
   "outputs": [
    {
     "data": {
      "text/plain": [
       "{'herria': 'Arrasate (Gipuzkoa)',\n",
       " 'urteak': '1921-2007',\n",
       " 'bio': '1921ean jaio zen Arrasateko Akiso baserrian. Ama antzuolarra zen, aita Arrasatekoa. Donostian egon zen garai batean, baina gerora Arrasatera itzuli zen. Harrezkero baserrian bizi izan da.',\n",
       " 'esteka': 'https://ahotsak.eus/arrasate/hizlariak/miren-abarrategi'}"
      ]
     },
     "execution_count": 18,
     "metadata": {},
     "output_type": "execute_result"
    }
   ],
   "source": [
    "pertsonak['Abarrategi, Miren']"
   ]
  },
  {
   "cell_type": "markdown",
   "metadata": {},
   "source": [
    "**Creating table for speakers' information**"
   ]
  },
  {
   "cell_type": "code",
   "execution_count": 5,
   "metadata": {},
   "outputs": [],
   "source": [
    "import pandas as pd"
   ]
  },
  {
   "cell_type": "code",
   "execution_count": 8,
   "metadata": {},
   "outputs": [],
   "source": [
    "people_table = {\"ID\": [], \"Name\": [], \"Town\": [], \"Bio\": [], \"Years\": [], \"Link\": []}"
   ]
  },
  {
   "cell_type": "code",
   "execution_count": 9,
   "metadata": {},
   "outputs": [],
   "source": [
    "for i, person in enumerate(pertsonak, start = 1):\n",
    "    people_table[\"ID\"].append(\"p_%04d\" % i)\n",
    "    people_table[\"Name\"].append(person)\n",
    "    people_table[\"Town\"].append(pertsonak[person]['herria'])\n",
    "    people_table[\"Years\"].append(pertsonak[person]['urteak'])\n",
    "    people_table[\"Bio\"].append(pertsonak[person]['bio'])\n",
    "    people_table[\"Link\"].append(pertsonak[person]['esteka'])"
   ]
  },
  {
   "cell_type": "code",
   "execution_count": 26,
   "metadata": {},
   "outputs": [],
   "source": [
    "pd.DataFrame.from_dict(people_table).to_csv(\"C:/Users\\jonla\\Desktop\\Ahotsak\\people.tsv\", index=False, sep=\"\\t\")"
   ]
  },
  {
   "cell_type": "markdown",
   "metadata": {},
   "source": [
    "**Creating files for transcriptions**"
   ]
  },
  {
   "cell_type": "code",
   "execution_count": 10,
   "metadata": {},
   "outputs": [],
   "source": [
    "import os"
   ]
  },
  {
   "cell_type": "code",
   "execution_count": 12,
   "metadata": {},
   "outputs": [],
   "source": [
    "trans_table = {\"ID\": [], \"Date\": [], \"Link\": []}\n",
    "for i, person in enumerate(pasarteak, start = 1):\n",
    "    for j, transcript in enumerate(pasarteak[person], start = 1):\n",
    "        with open(\"C:/Users\\jonla\\Desktop\\Ahotsak\\\\transcripts\\p_%04d_%03d.txt\" % (i, j), 'w', encoding='utf-8') as file:\n",
    "            for line in (pasarteak[person][transcript][\"transkripzioa\"]):\n",
    "                file.write(line + \"\\n\")\n",
    "        trans_table[\"ID\"].append('p_%04d_%03d' % (i, j))\n",
    "        trans_table[\"Date\"].append(pasarteak[person][transcript][\"data\"])\n",
    "        trans_table[\"Link\"].append(pasarteak[person][transcript][\"esteka\"])"
   ]
  },
  {
   "cell_type": "code",
   "execution_count": 33,
   "metadata": {},
   "outputs": [],
   "source": [
    "if not exists(\"\\\\trans.tsv\"):\n",
    "    pd.DataFrame.from_dict(trans_table).to_csv(\"\\\\trans.tsv\", index=False, sep=\"\\t\")"
   ]
  },
  {
   "cell_type": "markdown",
   "metadata": {},
   "source": [
    "**Creating speaker groups**"
   ]
  },
  {
   "cell_type": "code",
   "execution_count": 16,
   "metadata": {},
   "outputs": [],
   "source": [
    "table = pd.read_csv('C:/Users\\jonla\\Desktop\\Ahotsak\\people.tsv', sep='\\t', encoding='latin-1')"
   ]
  },
  {
   "cell_type": "code",
   "execution_count": 25,
   "metadata": {},
   "outputs": [],
   "source": [
    "list_urnieta = list(table[table['Town'] == 'Urnieta (Gipuzkoa)']['ID'])"
   ]
  },
  {
   "cell_type": "code",
   "execution_count": 26,
   "metadata": {},
   "outputs": [],
   "source": [
    "list_astigarraga = list(table[table['Town'] == 'Astigarraga (Gipuzkoa)']['ID'])"
   ]
  },
  {
   "cell_type": "code",
   "execution_count": 27,
   "metadata": {},
   "outputs": [],
   "source": [
    "list_hernani = list_astigarraga+list_urnieta"
   ]
  },
  {
   "cell_type": "code",
   "execution_count": 40,
   "metadata": {},
   "outputs": [],
   "source": [
    "import glob\n",
    "G_her = {}\n",
    "for speaker in list_hernani:\n",
    "    G_her_speaker = []\n",
    "    for trans in glob.glob('C:/Users\\jonla\\Desktop\\Ahotsak\\\\transcripts\\{}*'.format(speaker)):\n",
    "        with open(trans, 'r', encoding='utf-8') as file:\n",
    "            G_her_speaker += [i.strip('\\n') for i in file.readlines()]\n",
    "    G_her[speaker] = G_her_speaker"
   ]
  },
  {
   "cell_type": "code",
   "execution_count": 42,
   "metadata": {},
   "outputs": [],
   "source": [
    "G_her2 = {}\n",
    "for speaker in list_hernani:\n",
    "    words = []\n",
    "    for sentence in G_her[speaker]:\n",
    "        sentence = sentence.lower()\n",
    "        for c in ',.;:-?!()\\'\"[]+=_':\n",
    "            sentence = sentence.replace(c, '')\n",
    "        words += sentence.split(' ')\n",
    "    G_her2[speaker] = words"
   ]
  },
  {
   "cell_type": "code",
   "execution_count": 53,
   "metadata": {},
   "outputs": [
    {
     "name": "stdout",
     "output_type": "stream",
     "text": [
      "p_0097\n",
      "p_0107\n",
      "momentua\n",
      "p_0160\n",
      "p_0162\n",
      "p_0284\n",
      "fermentatua\n",
      "adittua\n",
      "p_0305\n",
      "p_0324\n",
      "depositua\n",
      "p_0436\n",
      "artua\n",
      "p_0621\n",
      "p_0641\n",
      "listua\n",
      "p_0643\n",
      "artua\n",
      "artua\n",
      "portua\n",
      "p_0784\n",
      "p_0785\n",
      "obligatua\n",
      "artua\n",
      "bijilatua\n",
      "bijilatua\n",
      "pekatua\n",
      "pekatua\n",
      "kezkatua\n",
      "p_0892\n",
      "p_0940\n",
      "xextua\n",
      "p_0992\n",
      "pekatua\n",
      "zeatua\n",
      "pekatua\n",
      "pekatua\n",
      "p_1140\n",
      "p_1141\n",
      "adittua\n",
      "p_1277\n",
      "p_1287\n",
      "p_1385\n",
      "p_1577\n",
      "gaixtua\n",
      "gaixtua\n",
      "p_0108\n",
      "gaxtua\n",
      "talentua\n",
      "p_0109\n",
      "p_0240\n",
      "p_0279\n",
      "hartua\n",
      "beraziartua\n",
      "kristua\n",
      "p_0347\n",
      "astua\n",
      "astua\n",
      "astua\n",
      "astua\n",
      "astua\n",
      "astua\n",
      "astua\n",
      "astua\n",
      "hostua\n",
      "ihartua\n",
      "p_0348\n",
      "astua\n",
      "astua\n",
      "astua\n",
      "astua\n",
      "astua\n",
      "astua\n",
      "astua\n",
      "astua\n",
      "hostua\n",
      "ihartua\n",
      "p_0423\n",
      "kortua\n",
      "kortua\n",
      "gaxtua\n",
      "kontua\n",
      "p_0724\n",
      "artua\n",
      "artua\n",
      "artua\n",
      "puntua\n",
      "puntua\n",
      "pekatua\n",
      "depositua\n",
      "depositua\n",
      "depositua\n",
      "mareatua\n",
      "flojotua\n",
      "moldatua\n",
      "p_0725\n",
      "gaixtua\n",
      "afusilatua\n",
      "p_0736\n",
      "aiuntamentua\n",
      "aiuntamentua\n",
      "aiuntamentua\n",
      "aiuntamentua\n",
      "p_0738\n",
      "pekatua\n",
      "pekatua\n",
      "p_0844\n",
      "p_0845\n",
      "p_0847\n",
      "p_0907\n",
      "kontua\n",
      "kontatua\n",
      "rekuentua\n",
      "p_0943\n",
      "kintua\n",
      "p_1049\n",
      "kontua\n",
      "p_1082\n",
      "sartua\n",
      "beratua\n",
      "kuadratua\n",
      "p_1118\n",
      "p_1200\n",
      "zerkatua\n",
      "astua\n",
      "kinttua\n",
      "zestua\n",
      "ahaztua\n",
      "p_1201\n",
      "zerkatua\n",
      "kinttua\n",
      "zestua\n",
      "ahaztua\n",
      "p_1218\n",
      "p_1286\n",
      "p_1331\n",
      "difuntua\n",
      "difuntua\n",
      "p_1349\n",
      "difuntua\n",
      "p_1372\n",
      "p_1408\n",
      "astua\n",
      "gaxtua\n",
      "gaxtua\n",
      "p_1436\n",
      "hartua\n",
      "sekretua\n",
      "delitua\n",
      "astua\n",
      "puntua\n",
      "puntua\n",
      "p_1449\n",
      "umatua\n",
      "p_1472\n",
      "pekatua\n",
      "artua\n",
      "p_1513\n",
      "p_1542\n",
      "aittua\n",
      "artua\n",
      "artua\n",
      "artua\n",
      "artua\n",
      "artua\n",
      "p_1568\n",
      "bedeinkatua\n",
      "razionamentua\n",
      "razionamentua\n",
      "errespetua\n",
      "kanposantua\n"
     ]
    }
   ],
   "source": [
    "import re\n",
    "for speaker in G_her2:\n",
    "    print(speaker)\n",
    "    for word in G_her2[speaker]:\n",
    "        if re.search('.*tua$', word):\n",
    "            print(word)"
   ]
  },
  {
   "cell_type": "code",
   "execution_count": null,
   "metadata": {},
   "outputs": [],
   "source": []
  }
 ],
 "metadata": {
  "kernelspec": {
   "display_name": "Python 3",
   "language": "python",
   "name": "python3"
  },
  "language_info": {
   "codemirror_mode": {
    "name": "ipython",
    "version": 3
   },
   "file_extension": ".py",
   "mimetype": "text/x-python",
   "name": "python",
   "nbconvert_exporter": "python",
   "pygments_lexer": "ipython3",
   "version": "3.7.3"
  }
 },
 "nbformat": 4,
 "nbformat_minor": 4
}
